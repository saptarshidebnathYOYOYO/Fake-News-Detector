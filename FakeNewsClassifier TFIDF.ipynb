Fake News Classifier
Dataset: https://www.kaggle.com/c/fake-news/data#

In [1]:
import pandas as pd
In [2]:
df=pd.read_csv('fake-news/train.csv')
In [3]:
df.head()
Out[3]:
id	title	author	text	label
0	0	House Dem Aide: We Didn’t Even See Comey’s Let...	Darrell Lucus	House Dem Aide: We Didn’t Even See Comey’s Let...	1
1	1	FLYNN: Hillary Clinton, Big Woman on Campus - ...	Daniel J. Flynn	Ever get the feeling your life circles the rou...	0
2	2	Why the Truth Might Get You Fired	Consortiumnews.com	Why the Truth Might Get You Fired October 29, ...	1
3	3	15 Civilians Killed In Single US Airstrike Hav...	Jessica Purkiss	Videos 15 Civilians Killed In Single US Airstr...	1
4	4	Iranian woman jailed for fictional unpublished...	Howard Portnoy	Print \nAn Iranian woman has been sentenced to...	1
In [4]:
## Get the Independent Features

X=df.drop('label',axis=1)
In [5]:
X.head()
Out[5]:
id	title	author	text
0	0	House Dem Aide: We Didn’t Even See Comey’s Let...	Darrell Lucus	House Dem Aide: We Didn’t Even See Comey’s Let...
1	1	FLYNN: Hillary Clinton, Big Woman on Campus - ...	Daniel J. Flynn	Ever get the feeling your life circles the rou...
2	2	Why the Truth Might Get You Fired	Consortiumnews.com	Why the Truth Might Get You Fired October 29, ...
3	3	15 Civilians Killed In Single US Airstrike Hav...	Jessica Purkiss	Videos 15 Civilians Killed In Single US Airstr...
4	4	Iranian woman jailed for fictional unpublished...	Howard Portnoy	Print \nAn Iranian woman has been sentenced to...
In [6]:
## Get the Dependent features
y=df['label']
In [7]:
y.head()
Out[7]:
0    1
1    0
2    1
3    1
4    1
Name: label, dtype: int64
In [10]:
df.shape
Out[10]:
(18285, 5)
In [9]:
from sklearn.feature_extraction.text import CountVectorizer, TfidfVectorizer, HashingVectorizer
In [9]:
df=df.dropna()
In [11]:
df.head(10)
Out[11]:
id	title	author	text	label
0	0	House Dem Aide: We Didn’t Even See Comey’s Let...	Darrell Lucus	House Dem Aide: We Didn’t Even See Comey’s Let...	1
1	1	FLYNN: Hillary Clinton, Big Woman on Campus - ...	Daniel J. Flynn	Ever get the feeling your life circles the rou...	0
2	2	Why the Truth Might Get You Fired	Consortiumnews.com	Why the Truth Might Get You Fired October 29, ...	1
3	3	15 Civilians Killed In Single US Airstrike Hav...	Jessica Purkiss	Videos 15 Civilians Killed In Single US Airstr...	1
4	4	Iranian woman jailed for fictional unpublished...	Howard Portnoy	Print \nAn Iranian woman has been sentenced to...	1
5	5	Jackie Mason: Hollywood Would Love Trump if He...	Daniel Nussbaum	In these trying times, Jackie Mason is the Voi...	0
7	7	Benoît Hamon Wins French Socialist Party’s Pre...	Alissa J. Rubin	PARIS — France chose an idealistic, traditi...	0
9	9	A Back-Channel Plan for Ukraine and Russia, Co...	Megan Twohey and Scott Shane	A week before Michael T. Flynn resigned as nat...	0
10	10	Obama’s Organizing for Action Partners with So...	Aaron Klein	Organizing for Action, the activist group that...	0
11	11	BBC Comedy Sketch "Real Housewives of ISIS" Ca...	Chris Tomlinson	The BBC produced spoof on the “Real Housewives...	0
In [12]:
messages=df.copy()
In [13]:
messages.reset_index(inplace=True)
In [14]:
messages.head(10)
Out[14]:
index	id	title	author	text	label
0	0	0	House Dem Aide: We Didn’t Even See Comey’s Let...	Darrell Lucus	House Dem Aide: We Didn’t Even See Comey’s Let...	1
1	1	1	FLYNN: Hillary Clinton, Big Woman on Campus - ...	Daniel J. Flynn	Ever get the feeling your life circles the rou...	0
2	2	2	Why the Truth Might Get You Fired	Consortiumnews.com	Why the Truth Might Get You Fired October 29, ...	1
3	3	3	15 Civilians Killed In Single US Airstrike Hav...	Jessica Purkiss	Videos 15 Civilians Killed In Single US Airstr...	1
4	4	4	Iranian woman jailed for fictional unpublished...	Howard Portnoy	Print \nAn Iranian woman has been sentenced to...	1
5	5	5	Jackie Mason: Hollywood Would Love Trump if He...	Daniel Nussbaum	In these trying times, Jackie Mason is the Voi...	0
6	7	7	Benoît Hamon Wins French Socialist Party’s Pre...	Alissa J. Rubin	PARIS — France chose an idealistic, traditi...	0
7	9	9	A Back-Channel Plan for Ukraine and Russia, Co...	Megan Twohey and Scott Shane	A week before Michael T. Flynn resigned as nat...	0
8	10	10	Obama’s Organizing for Action Partners with So...	Aaron Klein	Organizing for Action, the activist group that...	0
9	11	11	BBC Comedy Sketch "Real Housewives of ISIS" Ca...	Chris Tomlinson	The BBC produced spoof on the “Real Housewives...	0
In [15]:
messages['text'][6]
Out[15]:
'PARIS  —   France chose an idealistic, traditional   candidate in Sunday’s primary to represent the Socialist and   parties in the presidential election this spring. The candidate, Benoît Hamon, 49, who ran on the slogan that he would “make France’s heart beat,” bested Manuel Valls, the former prime minister, whose campaign has promoted more   policies and who has a strong    background. Mr. Hamon appeared to have won by a wide margin, with incomplete returns showing him with an estimated 58 percent of the vote to Mr. Valls’s 41 percent. “Tonight the left holds its head up high again it is looking to the future,” Mr. Hamon said, addressing his supporters. “Our country needs the left, but a modern, innovative left,” he said. Mr. Hamon’s victory was the clearest sign yet that voters on the left want a break with the policies of President François Hollande, who in December announced that he would not seek  . However, Mr. Hamon’s strong showing is unlikely to change widespread assessments that   candidates have little chance of making it into the second round of voting in the general election. The first round of the general election is set for April 23 and the runoff for May 7. The Socialist Party is deeply divided, and one measure of its lack of popular enthusiasm was the relatively low number of people voting. About two million people voted in the second round of the primary on Sunday, in contrast with about 2. 9 million in the second round of the last presidential primary on the left, in 2011. However, much of the conventional wisdom over how the elections will go has been thrown into question over the past week, because the leading candidate, François Fillon, who represents the main   party, the Republicans, was accused of paying his wife large sums of money to work as his parliamentary aide. While nepotism is legal in the French political system, it is not clear that she actually did any work. Prosecutors who specialize in financial malfeasance are reviewing the case. France’s electoral system allows multiple candidates to run for president in the first round of voting, but only the top two   go on to a second round. Mr. Hamon is entering a race that is already crowded on the left, with candidates who include   Mélenchon on the far left, and Emmanuel Macron, an independent who served as economy minister in Mr. Hollande’s government and who embraces more   policies. Unless he decides to withdraw, Mr. Fillon, the mainstream right candidate, will also run, as will the extreme right candidate Marine Le Pen. The two have been expected to go to the runoff. Mr. Hamon’s victory can be attributed at least in part to his image as an idealist and traditional leftist candidate who appeals to union voters as well as more environmentally concerned and socially liberal young people. Unlike Mr. Valls, he also clearly distanced himself from some of Mr. Hollande’s more unpopular policies, especially the economic ones. Thomas Kekenbosch, 22, a student and one of the leaders of the group the Youth With Benoît Hamon, said Mr. Hamon embodied a new hope for those on the left. “We have a perspective we have something to do, to build,” Mr. Kekenbosch said. Mr. Hollande had disappointed many young people because under him the party abandoned ideals, such as support for workers, that many   voters believe in, according to Mr. Kekenbosch. Mr. Hollande’s government, under pressure from the European Union to meet budget restraints, struggled to pass labor code reforms to make the market more attractive to foreign investors and also to encourage French businesses to expand in France. The measures ultimately passed after weeks of strikes, but they were watered down and generated little concrete progress in improving France’s roughly 10 percent unemployment rate and its nearly 25 percent youth joblessness rate. Mr. Hamon strongly endorses a stimulus approach to improving the economy and has promised to phase in a universal income, which would especially help young people looking for work, but would also supplement the livelihood of   French workers. The end goal would be to have everyone receive 750 euros per month (about $840). “We have someone that trusts us,” Mr. Kekenbosch said, “who says: ‘I give you enough to pay for your studies. You can have a scholarship which spares you from working at McDonald’s on provisional contracts for 4 years. ” Mr. Hamon advocates phasing out diesel fuel and encouraging drivers to replace vehicles that use petroleum products with electrical ones. His leftist pedigree began early. His father worked at an arsenal in Brest, a city in the far west of Brittany, and his mother worked off and on as a secretary. He was an early member of the Movement of Young Socialists, and he has continued to work closely with them through his political life. He also worked for Martine Aubry, now the mayor of Lille and a former Socialist Party leader.'
In [ ]:
from nltk.corpus import stopwords
from nltk.stem.porter import PorterStemmer
import re
ps = PorterStemmer()
corpus = []
for i in range(0, len(messages)):
    review = re.sub('[^a-zA-Z]', ' ', messages['text'][i])
    review = review.lower()
    review = review.split()
    
    review = [ps.stem(word) for word in review if not word in stopwords.words('english')]
    review = ' '.join(review)
    corpus.append(review)
In [24]:
corpus[3]
Out[24]:
'civilian kill singl us airstrik identifi'
In [ ]:

In [17]:
## TFidf Vectorizer
from sklearn.feature_extraction.text import TfidfVectorizer
tfidf_v=TfidfVectorizer(max_features=5000,ngram_range=(1,3))
X=tfidf_v.fit_transform(corpus).toarray()
In [18]:
X.shape
Out[18]:
(18285, 5000)
In [19]:
y=messages['label']
In [20]:
## Divide the dataset into Train and Test
from sklearn.model_selection import train_test_split
X_train, X_test, y_train, y_test = train_test_split(X, y, test_size=0.33, random_state=0)
In [21]:
tfidf_v.get_feature_names()[:20]
Out[21]:
['abandon',
 'abc',
 'abc news',
 'abduct',
 'abe',
 'abedin',
 'abl',
 'abort',
 'abroad',
 'absolut',
 'abstain',
 'absurd',
 'abus',
 'abus new',
 'abus new york',
 'academi',
 'accept',
 'access',
 'access pipelin',
 'access pipelin protest']
In [22]:
tfidf_v.get_params()
Out[22]:
{'analyzer': 'word',
 'binary': False,
 'decode_error': 'strict',
 'dtype': numpy.int64,
 'encoding': 'utf-8',
 'input': 'content',
 'lowercase': True,
 'max_df': 1.0,
 'max_features': 5000,
 'min_df': 1,
 'ngram_range': (1, 3),
 'norm': 'l2',
 'preprocessor': None,
 'smooth_idf': True,
 'stop_words': None,
 'strip_accents': None,
 'sublinear_tf': False,
 'token_pattern': '(?u)\\b\\w\\w+\\b',
 'tokenizer': None,
 'use_idf': True,
 'vocabulary': None}
In [23]:
count_df = pd.DataFrame(X_train, columns=tfidf_v.get_feature_names())
In [27]:
count_df.head()
Out[27]:
abandon	abc	abc news	abduct	abe	abedin	abl	abort	abroad	absolut	...	zero	zika	zika viru	zionist	zone	zone new	zone new york	zoo	zu	zuckerberg
0	0.0	0.0	0.0	0.0	0.0	0.0	0.0	0.0	0.0	0.000000	...	0.0	0.0	0.0	0.0	0.0	0.0	0.0	0.0	0.0	0.0
1	0.0	0.0	0.0	0.0	0.0	0.0	0.0	0.0	0.0	0.000000	...	0.0	0.0	0.0	0.0	0.0	0.0	0.0	0.0	0.0	0.0
2	0.0	0.0	0.0	0.0	0.0	0.0	0.0	0.0	0.0	0.000000	...	0.0	0.0	0.0	0.0	0.0	0.0	0.0	0.0	0.0	0.0
3	0.0	0.0	0.0	0.0	0.0	0.0	0.0	0.0	0.0	0.000000	...	0.0	0.0	0.0	0.0	0.0	0.0	0.0	0.0	0.0	0.0
4	0.0	0.0	0.0	0.0	0.0	0.0	0.0	0.0	0.0	0.305244	...	0.0	0.0	0.0	0.0	0.0	0.0	0.0	0.0	0.0	0.0
5 rows × 5000 columns

In [28]:
import matplotlib.pyplot as plt
In [29]:
def plot_confusion_matrix(cm, classes,
                          normalize=False,
                          title='Confusion matrix',
                          cmap=plt.cm.Blues):
    """
    See full source and example: 
    http://scikit-learn.org/stable/auto_examples/model_selection/plot_confusion_matrix.html
    
    This function prints and plots the confusion matrix.
    Normalization can be applied by setting `normalize=True`.
    """
    plt.imshow(cm, interpolation='nearest', cmap=cmap)
    plt.title(title)
    plt.colorbar()
    tick_marks = np.arange(len(classes))
    plt.xticks(tick_marks, classes, rotation=45)
    plt.yticks(tick_marks, classes)

    if normalize:
        cm = cm.astype('float') / cm.sum(axis=1)[:, np.newaxis]
        print("Normalized confusion matrix")
    else:
        print('Confusion matrix, without normalization')

    thresh = cm.max() / 2.
    for i, j in itertools.product(range(cm.shape[0]), range(cm.shape[1])):
        plt.text(j, i, cm[i, j],
                 horizontalalignment="center",
                 color="white" if cm[i, j] > thresh else "black")

    plt.tight_layout()
    plt.ylabel('True label')
    plt.xlabel('Predicted label')
MultinomialNB Algorithm
In [30]:
from sklearn.naive_bayes import MultinomialNB
classifier=MultinomialNB()
In [31]:
from sklearn import metrics
import numpy as np
import itertools
In [32]:
classifier.fit(X_train, y_train)
pred = classifier.predict(X_test)
score = metrics.accuracy_score(y_test, pred)
print("accuracy:   %0.3f" % score)
cm = metrics.confusion_matrix(y_test, pred)
plot_confusion_matrix(cm, classes=['FAKE', 'REAL'])
accuracy:   0.881
Confusion matrix, without normalization

In [33]:
classifier.fit(X_train, y_train)
pred = classifier.predict(X_test)
score = metrics.accuracy_score(y_test, pred)
score
Out[33]:
0.8810273405136703
In [34]:
y_train.shape
Out[34]:
(12250,)
Passive Aggressive Classifier Algorithm
In [35]:
from sklearn.linear_model import PassiveAggressiveClassifier
linear_clf = PassiveAggressiveClassifier(n_iter=50)
In [36]:
linear_clf.fit(X_train, y_train)
pred = linear_clf.predict(X_test)
score = metrics.accuracy_score(y_test, pred)
print("accuracy:   %0.3f" % score)
cm = metrics.confusion_matrix(y_test, pred)
plot_confusion_matrix(cm, classes=['FAKE Data', 'REAL Data'])
c:\users\krish.naik\appdata\local\continuum\anaconda3\envs\nlp\lib\site-packages\sklearn\linear_model\stochastic_gradient.py:117: DeprecationWarning: n_iter parameter is deprecated in 0.19 and will be removed in 0.21. Use max_iter and tol instead.
  DeprecationWarning)
accuracy:   0.918
Confusion matrix, without normalization

Multinomial Classifier with Hyperparameter
In [37]:
classifier=MultinomialNB(alpha=0.1)
In [38]:
previous_score=0
for alpha in np.arange(0,1,0.1):
    sub_classifier=MultinomialNB(alpha=alpha)
    sub_classifier.fit(X_train,y_train)
    y_pred=sub_classifier.predict(X_test)
    score = metrics.accuracy_score(y_test, y_pred)
    if score>previous_score:
        classifier=sub_classifier
    print("Alpha: {}, Score : {}".format(alpha,score))
c:\users\krish.naik\appdata\local\continuum\anaconda3\envs\nlp\lib\site-packages\sklearn\naive_bayes.py:472: UserWarning: alpha too small will result in numeric errors, setting alpha = 1.0e-10
  'setting alpha = %.1e' % _ALPHA_MIN)
Alpha: 0.0, Score : 0.8662800331400166
Alpha: 0.1, Score : 0.8777133388566695
Alpha: 0.2, Score : 0.8801988400994201
Alpha: 0.30000000000000004, Score : 0.87986743993372
Alpha: 0.4, Score : 0.8808616404308203
Alpha: 0.5, Score : 0.8806959403479702
Alpha: 0.6000000000000001, Score : 0.8815244407622204
Alpha: 0.7000000000000001, Score : 0.8813587406793704
Alpha: 0.8, Score : 0.8816901408450705
Alpha: 0.9, Score : 0.8816901408450705
In [106]:
## Get Features names
feature_names = cv.get_feature_names()
In [109]:
classifier.coef_[0]
Out[109]:
array([ -9.10038883,  -8.62276128,  -9.10038883, ..., -10.79498456,
        -8.91467169,  -9.32864749])
In [107]:
### Most real
sorted(zip(classifier.coef_[0], feature_names), reverse=True)[:20]
Out[107]:
[(-4.000149156604985, 'trump'),
 (-4.287872694443541, 'hillari'),
 (-4.396389621061519, 'clinton'),
 (-4.899969726208735, 'elect'),
 (-5.176598600897756, 'new'),
 (-5.234730366348767, 'comment'),
 (-5.273968180973631, 'video'),
 (-5.3868167681180115, 'war'),
 (-5.396821854078974, 'us'),
 (-5.412019714988405, 'hillari clinton'),
 (-5.417137433425386, 'fbi'),
 (-5.48068448454208, 'vote'),
 (-5.566255475855405, 'email'),
 (-5.578238842742501, 'world'),
 (-5.634015380199913, 'obama'),
 (-5.734501455772904, 'donald'),
 (-5.763095255139644, 'donald trump'),
 (-5.785090276725191, 'russia'),
 (-5.846224665218559, 'day'),
 (-5.862110622807369, 'america')]
In [135]:
### Most fake
sorted(zip(classifier.coef_[0], feature_names))[:5000]
Out[135]:
[(-10.794984555596727, 'abe'),
 (-10.794984555596727, 'abroad'),
 (-10.794984555596727, 'abus new'),
 (-10.794984555596727, 'abus new york'),
 (-10.794984555596727, 'act new'),
 (-10.794984555596727, 'act new york'),
 (-10.794984555596727, 'advic'),
 (-10.794984555596727, 'advis new'),
 (-10.794984555596727, 'advis new york'),
 (-10.794984555596727, 'age new'),
 (-10.794984555596727, 'age new york'),
 (-10.794984555596727, 'agenda breitbart'),
 (-10.794984555596727, 'ail'),
 (-10.794984555596727, 'aleppo new'),
 (-10.794984555596727, 'aleppo new york'),
 (-10.794984555596727, 'ali'),
 (-10.794984555596727, 'america breitbart'),
 (-10.794984555596727, 'america new york'),
 (-10.794984555596727, 'american breitbart'),
 (-10.794984555596727, 'american new'),
 (-10.794984555596727, 'american new york'),
 (-10.794984555596727, 'ami'),
 (-10.794984555596727, 'ami schumer'),
 (-10.794984555596727, 'amp'),
 (-10.794984555596727, 'ann'),
 (-10.794984555596727, 'ann coulter'),
 (-10.794984555596727, 'applaud'),
 (-10.794984555596727, 'arson'),
 (-10.794984555596727, 'asian'),
 (-10.794984555596727, 'assail'),
 (-10.794984555596727, 'athlet'),
 (-10.794984555596727, 'attack breitbart'),
 (-10.794984555596727, 'attack new'),
 (-10.794984555596727, 'attack new york'),
 (-10.794984555596727, 'attack syria'),
 (-10.794984555596727, 'attend'),
 (-10.794984555596727, 'avert'),
 (-10.794984555596727, 'away new'),
 (-10.794984555596727, 'away new york'),
 (-10.794984555596727, 'back new'),
 (-10.794984555596727, 'back new york'),
 (-10.794984555596727, 'baltimor'),
 (-10.794984555596727, 'ban breitbart'),
 (-10.794984555596727, 'ban new'),
 (-10.794984555596727, 'ban new york'),
 (-10.794984555596727, 'bangladesh'),
 (-10.794984555596727, 'barron trump'),
 (-10.794984555596727, 'basic'),
 (-10.794984555596727, 'basketbal'),
 (-10.794984555596727, 'basketbal player'),
 (-10.794984555596727, 'baton'),
 (-10.794984555596727, 'baton roug'),
 (-10.794984555596727, 'battl new'),
 (-10.794984555596727, 'battl new york'),
 (-10.794984555596727, 'bay'),
 (-10.794984555596727, 'beach new'),
 (-10.794984555596727, 'beach new york'),
 (-10.794984555596727, 'begin new'),
 (-10.794984555596727, 'behead photo'),
 (-10.794984555596727, 'behind trump'),
 (-10.794984555596727, 'berkeley breitbart'),
 (-10.794984555596727, 'betsi'),
 (-10.794984555596727, 'betsi devo'),
 (-10.794984555596727, 'bill breitbart'),
 (-10.794984555596727, 'bill new'),
 (-10.794984555596727, 'bill new york'),
 (-10.794984555596727, 'bill reilli'),
 (-10.794984555596727, 'billi'),
 (-10.794984555596727, 'blue state'),
 (-10.794984555596727, 'blue state blue'),
 (-10.794984555596727, 'bolster'),
 (-10.794984555596727, 'border patrol'),
 (-10.794984555596727, 'border patrol agent'),
 (-10.794984555596727, 'border state'),
 (-10.794984555596727, 'border wall'),
 (-10.794984555596727, 'border wall breitbart'),
 (-10.794984555596727, 'bowl'),
 (-10.794984555596727, 'box offic'),
 (-10.794984555596727, 'bradi'),
 (-10.794984555596727, 'breath'),
 (-10.794984555596727, 'breitbart news daili'),
 (-10.794984555596727, 'brief new'),
 (-10.794984555596727, 'brief new york'),
 (-10.794984555596727, 'broadway'),
 (-10.794984555596727, 'bronx'),
 (-10.794984555596727, 'brooklyn'),
 (-10.794984555596727, 'brooklyn new'),
 (-10.794984555596727, 'brooklyn new york'),
 (-10.794984555596727, 'bureaucrat'),
 (-10.794984555596727, 'caitlyn'),
 (-10.794984555596727, 'caitlyn jenner'),
 (-10.794984555596727, 'cal'),
 (-10.794984555596727, 'california today'),
 (-10.794984555596727, 'calm'),
 (-10.794984555596727, 'campaign breitbart'),
 (-10.794984555596727, 'campaign new'),
 (-10.794984555596727, 'campaign new york'),
 (-10.794984555596727, 'campu breitbart'),
 (-10.794984555596727, 'cann'),
 (-10.794984555596727, 'car new'),
 (-10.794984555596727, 'car new york'),
 (-10.794984555596727, 'care act'),
 (-10.794984555596727, 'care act new'),
 (-10.794984555596727, 'care bill'),
 (-10.794984555596727, 'care breitbart'),
 (-10.794984555596727, 'carri fisher'),
 (-10.794984555596727, 'carson'),
 (-10.794984555596727, 'case new'),
 (-10.794984555596727, 'case new york'),
 (-10.794984555596727, 'castro'),
 (-10.794984555596727, 'caucu'),
 (-10.794984555596727, 'ceas'),
 (-10.794984555596727, 'ceas fire'),
 (-10.794984555596727, 'chamber'),
 (-10.794984555596727, 'championship'),
 (-10.794984555596727, 'championship new'),
 (-10.794984555596727, 'championship new york'),
 (-10.794984555596727, 'chang new'),
 (-10.794984555596727, 'chang new york'),
 (-10.794984555596727, 'charg new york'),
 (-10.794984555596727, 'charleston'),
 (-10.794984555596727, 'charlott'),
 (-10.794984555596727, 'cher'),
 (-10.794984555596727, 'chief new'),
 (-10.794984555596727, 'chief new york'),
 (-10.794984555596727, 'china new york'),
 (-10.794984555596727, 'chri christi'),
 (-10.794984555596727, 'christi'),
 (-10.794984555596727, 'christoph'),
 (-10.794984555596727, 'chuck'),
 (-10.794984555596727, 'chuck todd'),
 (-10.794984555596727, 'circuit'),
 (-10.794984555596727, 'citi new'),
 (-10.794984555596727, 'citi new york'),
 (-10.794984555596727, 'citizenship'),
 (-10.794984555596727, 'clinton new york'),
 (-10.794984555596727, 'clue'),
 (-10.794984555596727, 'coach'),
 (-10.794984555596727, 'colleg new'),
 (-10.794984555596727, 'colleg new york'),
 (-10.794984555596727, 'collid'),
 (-10.794984555596727, 'collin'),
 (-10.794984555596727, 'comedi'),
 (-10.794984555596727, 'comedi central'),
 (-10.794984555596727, 'comey fire'),
 (-10.794984555596727, 'commission'),
 (-10.794984555596727, 'common core'),
 (-10.794984555596727, 'common ground'),
 (-10.794984555596727, 'compet'),
 (-10.794984555596727, 'complex'),
 (-10.794984555596727, 'conceal'),
 (-10.794984555596727, 'confirm hear'),
 (-10.794984555596727, 'congress breitbart'),
 (-10.794984555596727, 'congress new york'),
 (-10.794984555596727, 'control new'),
 (-10.794984555596727, 'control new york'),
 (-10.794984555596727, 'convent new'),
 (-10.794984555596727, 'convent new york'),
 (-10.794984555596727, 'corner'),
 (-10.794984555596727, 'coulter'),
 (-10.794984555596727, 'counsel'),
 (-10.794984555596727, 'countri breitbart'),
 (-10.794984555596727, 'cours'),
 (-10.794984555596727, 'court block'),
 (-10.794984555596727, 'court new'),
 (-10.794984555596727, 'court new york'),
 (-10.794984555596727, 'court rule new'),
 (-10.794984555596727, 'cpac'),
 (-10.794984555596727, 'crash new'),
 (-10.794984555596727, 'crash new york'),
 (-10.794984555596727, 'crime breitbart'),
 (-10.794984555596727, 'crisi new'),
 (-10.794984555596727, 'crisi new york'),
 (-10.794984555596727, 'critic new'),
 (-10.794984555596727, 'crown'),
 (-10.794984555596727, 'cunningham'),
 (-10.794984555596727, 'curb'),
 (-10.794984555596727, 'davo'),
 (-10.794984555596727, 'day breitbart'),
 (-10.794984555596727, 'day new york'),
 (-10.794984555596727, 'day parad'),
 (-10.794984555596727, 'dead new'),
 (-10.794984555596727, 'dead new york'),
 (-10.794984555596727, 'deal breitbart'),
 (-10.794984555596727, 'deal new'),
 (-10.794984555596727, 'deal new york'),
 (-10.794984555596727, 'death new'),
 (-10.794984555596727, 'death new york'),
 (-10.794984555596727, 'debat new'),
 (-10.794984555596727, 'debat new york'),
 (-10.794984555596727, 'debbi reynold'),
 (-10.794984555596727, 'defi'),
 (-10.794984555596727, 'defund'),
 (-10.794984555596727, 'delingpol'),
 (-10.794984555596727, 'dem rep'),
 (-10.794984555596727, 'dem sen'),
 (-10.794984555596727, 'democrat breitbart'),
 (-10.794984555596727, 'democrat new'),
 (-10.794984555596727, 'democrat new york'),
 (-10.794984555596727, 'deport breitbart'),
 (-10.794984555596727, 'despair'),
 (-10.794984555596727, 'devo'),
 (-10.794984555596727, 'dh'),
 (-10.794984555596727, 'die new'),
 (-10.794984555596727, 'die new york'),
 (-10.794984555596727, 'diego'),
 (-10.794984555596727, 'disappoint'),
 (-10.794984555596727, 'divorc'),
 (-10.794984555596727, 'donald trump breitbart'),
 (-10.794984555596727, 'donald trump campaign'),
 (-10.794984555596727, 'donald trump inaugur'),
 (-10.794984555596727, 'dossier'),
 (-10.794984555596727, 'drama'),
 (-10.794984555596727, 'drive car'),
 (-10.794984555596727, 'drug new'),
 (-10.794984555596727, 'drug new york'),
 (-10.794984555596727, 'dunham'),
 (-10.794984555596727, 'dylann'),
 (-10.794984555596727, 'dylann roof'),
 (-10.794984555596727, 'eas'),
 (-10.794984555596727, 'easter'),
 (-10.794984555596727, 'economi new'),
 (-10.794984555596727, 'ecuador'),
 (-10.794984555596727, 'effort new york'),
 (-10.794984555596727, 'egyptair'),
 (-10.794984555596727, 'elect breitbart'),
 (-10.794984555596727, 'elect loss'),
 (-10.794984555596727, 'elect new york'),
 (-10.794984555596727, 'els new'),
 (-10.794984555596727, 'els new york'),
 (-10.794984555596727, 'embassi jerusalem'),
 (-10.794984555596727, 'emmi'),
 (-10.794984555596727, 'end new'),
 (-10.794984555596727, 'end new york'),
 (-10.794984555596727, 'england'),
 (-10.794984555596727, 'england patriot'),
 (-10.794984555596727, 'epa'),
 (-10.794984555596727, 'era new'),
 (-10.794984555596727, 'era new york'),
 (-10.794984555596727, 'espn'),
 (-10.794984555596727, 'europ new york'),
 (-10.794984555596727, 'european union'),
 (-10.794984555596727, 'even brief'),
 (-10.794984555596727, 'even brief new'),
 (-10.794984555596727, 'event breitbart'),
 (-10.794984555596727, 'execut order breitbart'),
 (-10.794984555596727, 'expand'),
 (-10.794984555596727, 'explain new'),
 (-10.794984555596727, 'explain new york'),
 (-10.794984555596727, 'extradit'),
 (-10.794984555596727, 'face new'),
 (-10.794984555596727, 'faction'),
 (-10.794984555596727, 'fake news breitbart'),
 (-10.794984555596727, 'fake news new'),
 (-10.794984555596727, 'falluja'),
 (-10.794984555596727, 'familiar'),
 (-10.794984555596727, 'farewel'),
 (-10.794984555596727, 'fargo'),
 (-10.794984555596727, 'fatal shoot'),
 (-10.794984555596727, 'fear new york'),
 (-10.794984555596727, 'fear trump'),
 (-10.794984555596727, 'feinstein'),
 (-10.794984555596727, 'fidel'),
 (-10.794984555596727, 'fidel castro'),
 (-10.794984555596727, 'fieri'),
 (-10.794984555596727, 'fight new'),
 (-10.794984555596727, 'fight new york'),
 (-10.794984555596727, 'fight trump'),
 (-10.794984555596727, 'filibust'),
 (-10.794984555596727, 'fillon'),
 (-10.794984555596727, 'find new york'),
 (-10.794984555596727, 'fire breitbart'),
 (-10.794984555596727, 'fire new york'),
 (-10.794984555596727, 'fisher'),
 (-10.794984555596727, 'fitton'),
 (-10.794984555596727, 'flight new'),
 (-10.794984555596727, 'flight new york'),
 (-10.794984555596727, 'fmr'),
 (-10.794984555596727, 'fort'),
 (-10.794984555596727, 'found new'),
 (-10.794984555596727, 'found new york'),
 (-10.794984555596727, 'fran oi'),
 (-10.794984555596727, 'fran oi fillon'),
 (-10.794984555596727, 'franc new'),
 (-10.794984555596727, 'franc new york'),
 (-10.794984555596727, 'freedom caucu'),
 (-10.794984555596727, 'french presidenti'),
 (-10.794984555596727, 'friday even'),
 (-10.794984555596727, 'friday even brief'),
 (-10.794984555596727, 'fs'),
 (-10.794984555596727, 'futur new'),
 (-10.794984555596727, 'futur new york'),
 (-10.794984555596727, 'gaffney'),
 (-10.794984555596727, 'game breitbart'),
 (-10.794984555596727, 'game new'),
 (-10.794984555596727, 'game new york'),
 (-10.794984555596727, 'gawker'),
 (-10.794984555596727, 'gener new'),
 (-10.794984555596727, 'gener new york'),
 (-10.794984555596727, 'georg michael'),
 (-10.794984555596727, 'get back'),
 (-10.794984555596727, 'get new'),
 (-10.794984555596727, 'go new york'),
 (-10.794984555596727, 'golden globe'),
 (-10.794984555596727, 'golden state'),
 (-10.794984555596727, 'golden state warrior'),
 (-10.794984555596727, 'goodel'),
 (-10.794984555596727, 'gop rep'),
 (-10.794984555596727, 'gop sen'),
 (-10.794984555596727, 'gorka'),
 (-10.794984555596727, 'gorsuch'),
 (-10.794984555596727, 'gorsuch breitbart'),
 (-10.794984555596727, 'gorsuch confirm'),
 (-10.794984555596727, 'govern new york'),
 (-10.794984555596727, 'grammi'),
 (-10.794984555596727, 'gray'),
 (-10.794984555596727, 'griffin'),
 (-10.794984555596727, 'grow new'),
 (-10.794984555596727, 'grow new york'),
 (-10.794984555596727, 'guant'),
 (-10.794984555596727, 'guant namo'),
 (-10.794984555596727, 'gulf'),
 (-10.794984555596727, 'gymnast'),
 (-10.794984555596727, 'hack new'),
 (-10.794984555596727, 'hack new york'),
 (-10.794984555596727, 'hbo'),
 (-10.794984555596727, 'health bill'),
 (-10.794984555596727, 'health care bill'),
 (-10.794984555596727, 'health insur'),
 (-10.794984555596727, 'health law'),
 (-10.794984555596727, 'healthcar bill'),
 (-10.794984555596727, 'hear new'),
 (-10.794984555596727, 'hear new york'),
 (-10.794984555596727, 'heart new'),
 (-10.794984555596727, 'heart new york'),
 (-10.794984555596727, 'high school'),
 (-10.794984555596727, 'histori new'),
 (-10.794984555596727, 'histori new york'),
 (-10.794984555596727, 'hockey'),
 (-10.794984555596727, 'holiday'),
 (-10.794984555596727, 'home new'),
 (-10.794984555596727, 'home new york'),
 (-10.794984555596727, 'hometown'),
 (-10.794984555596727, 'horribl'),
 (-10.794984555596727, 'hous breitbart'),
 (-10.794984555596727, 'hous new york'),
 (-10.794984555596727, 'hungari'),
 (-10.794984555596727, 'hurrican matthew'),
 (-10.794984555596727, 'imam'),
 (-10.794984555596727, 'immigr order'),
 (-10.794984555596727, 'inaugur speech'),
 (-10.794984555596727, 'inquiri new'),
 (-10.794984555596727, 'inquiri new york'),
 (-10.794984555596727, 'intend'),
 (-10.794984555596727, 'interest rate'),
 (-10.794984555596727, 'investig breitbart'),
 (-10.794984555596727, 'investig new york'),
 (-10.794984555596727, 'investig trump'),
 (-10.794984555596727, 'isi new'),
 (-10.794984555596727, 'isi new york'),
 (-10.794984555596727, 'islam state support'),
 (-10.794984555596727, 'isol'),
 (-10.794984555596727, 'issu new'),
 (-10.794984555596727, 'issu new york'),
 (-10.794984555596727, 'jacki'),
 (-10.794984555596727, 'jake'),
 (-10.794984555596727, 'jane'),
 (-10.794984555596727, 'jare kushner'),
 (-10.794984555596727, 'jerri'),
 (-10.794984555596727, 'jerri brown'),
 (-10.794984555596727, 'jo'),
 (-10.794984555596727, 'job breitbart'),
 (-10.794984555596727, 'job new'),
 (-10.794984555596727, 'job new york'),
 (-10.794984555596727, 'jong'),
 (-10.794984555596727, 'jong nam'),
 (-10.794984555596727, 'jong un'),
 (-10.794984555596727, 'journey'),
 (-10.794984555596727, 'jr'),
 (-10.794984555596727, 'judici'),
 (-10.794984555596727, 'justin'),
 (-10.794984555596727, 'kabul'),
 (-10.794984555596727, 'kathi'),
 (-10.794984555596727, 'kathi griffin'),
 (-10.794984555596727, 'kati'),
 (-10.794984555596727, 'kellogg'),
 (-10.794984555596727, 'kevin'),
 (-10.794984555596727, 'kill new'),
 (-10.794984555596727, 'kill new york'),
 (-10.794984555596727, 'kim jong'),
 (-10.794984555596727, 'kim jong nam'),
 (-10.794984555596727, 'kim jong un'),
 (-10.794984555596727, 'know know'),
 (-10.794984555596727, 'know new york'),
 (-10.794984555596727, 'korea new'),
 (-10.794984555596727, 'korea new york'),
 (-10.794984555596727, 'krauthamm'),
 (-10.794984555596727, 'kushner'),
 (-10.794984555596727, 'la la'),
 (-10.794984555596727, 'la la land'),
 (-10.794984555596727, 'la land'),
 (-10.794984555596727, 'labour'),
 (-10.794984555596727, 'lago'),
 (-10.794984555596727, 'latin'),
 (-10.794984555596727, 'lauderdal'),
 (-10.794984555596727, 'law breitbart'),
 (-10.794984555596727, 'law new'),
 (-10.794984555596727, 'law new york'),
 (-10.794984555596727, 'lawyer say'),
 (-10.794984555596727, 'le pen'),
 (-10.794984555596727, 'leader new'),
 (-10.794984555596727, 'leader new york'),
 (-10.794984555596727, 'leaker'),
 (-10.794984555596727, 'legitim'),
 (-10.794984555596727, 'lena'),
 (-10.794984555596727, 'lena dunham'),
 (-10.794984555596727, 'levin'),
 (-10.794984555596727, 'lewi'),
 (-10.794984555596727, 'life new'),
 (-10.794984555596727, 'life new york'),
 (-10.794984555596727, 'linda'),
 (-10.794984555596727, 'linda sarsour'),
 (-10.794984555596727, 'line new'),
 (-10.794984555596727, 'line new york'),
 (-10.794984555596727, 'listen new'),
 (-10.794984555596727, 'listen new york'),
 (-10.794984555596727, 'lite'),
 (-10.794984555596727, 'live new'),
 (-10.794984555596727, 'live new york'),
 (-10.794984555596727, 'lo angel'),
 (-10.794984555596727, 'locht'),
 (-10.794984555596727, 'london attack'),
 (-10.794984555596727, 'long island'),
 (-10.794984555596727, 'loss new'),
 (-10.794984555596727, 'loss new york'),
 (-10.794984555596727, 'louvr'),
 (-10.794984555596727, 'machin new'),
 (-10.794984555596727, 'machin new york'),
 (-10.794984555596727, 'macron'),
 (-10.794984555596727, 'madonna'),
 (-10.794984555596727, 'maker'),
 (-10.794984555596727, 'malaysia'),
 (-10.794984555596727, 'mall'),
 (-10.794984555596727, 'man new'),
 (-10.794984555596727, 'man new york'),
 (-10.794984555596727, 'manchin'),
 (-10.794984555596727, 'manuel'),
 (-10.794984555596727, 'mar'),
 (-10.794984555596727, 'mar lago'),
 (-10.794984555596727, 'marcher'),
 (-10.794984555596727, 'marin le'),
 (-10.794984555596727, 'marin le pen'),
 (-10.794984555596727, 'market new'),
 (-10.794984555596727, 'market new york'),
 (-10.794984555596727, 'marlow'),
 (-10.794984555596727, 'match'),
 (-10.794984555596727, 'maxin'),
 (-10.794984555596727, 'maxin water'),
 (-10.794984555596727, 'mcconnel'),
 (-10.794984555596727, 'media breitbart'),
 (-10.794984555596727, 'media new'),
 (-10.794984555596727, 'media new york'),
 (-10.794984555596727, 'medicaid'),
 (-10.794984555596727, 'meet new'),
 (-10.794984555596727, 'memori day'),
 (-10.794984555596727, 'merger'),
 (-10.794984555596727, 'meryl'),
 (-10.794984555596727, 'meryl streep'),
 (-10.794984555596727, 'mexican border'),
 (-10.794984555596727, 'mexican cartel'),
 (-10.794984555596727, 'michael phelp'),
 (-10.794984555596727, 'militari new'),
 (-10.794984555596727, 'militari new york'),
 (-10.794984555596727, 'million new york'),
 (-10.794984555596727, 'milo breitbart'),
 (-10.794984555596727, 'milo event'),
 (-10.794984555596727, 'miss new'),
 (-10.794984555596727, 'miss new york'),
 (-10.794984555596727, 'mnuchin'),
 (-10.794984555596727, 'model new'),
 (-10.794984555596727, 'model new york'),
 (-10.794984555596727, 'modi'),
 (-10.794984555596727, 'monday brief'),
 (-10.794984555596727, 'monday brief new'),
 (-10.794984555596727, 'monday even'),
 (-10.794984555596727, 'monday even brief'),
 (-10.794984555596727, 'money new'),
 (-10.794984555596727, 'money new york'),
 (-10.794984555596727, 'month new'),
 (-10.794984555596727, 'month new york'),
 (-10.794984555596727, 'monument'),
 (-10.794984555596727, 'moonlight'),
 (-10.794984555596727, 'morn brief'),
 (-10.794984555596727, 'morn brief new'),
 (-10.794984555596727, 'muhammad ali'),
 (-10.794984555596727, 'multipl'),
 (-10.794984555596727, 'mulvaney'),
 (-10.794984555596727, 'myanmar'),
 (-10.794984555596727, 'nam'),
 (-10.794984555596727, 'name new'),
 (-10.794984555596727, 'namo'),
 (-10.794984555596727, 'nanci'),
 (-10.794984555596727, 'nanci pelosi'),
 (-10.794984555596727, 'narendra'),
 (-10.794984555596727, 'narendra modi'),
 (-10.794984555596727, 'nat'),
 (-10.794984555596727, 'nation new'),
 (-10.794984555596727, 'nation new york'),
 (-10.794984555596727, 'nation secur advis'),
 (-10.794984555596727, 'navi seal'),
 (-10.794984555596727, 'near texa'),
 (-10.794984555596727, 'near texa border'),
 (-10.794984555596727, 'neil gorsuch'),
 (-10.794984555596727, 'netflix'),
 (-10.794984555596727, 'new england'),
 (-10.794984555596727, 'new england patriot'),
 (-10.794984555596727, 'new year eve'),
 (-10.794984555596727, 'new york new'),
 (-10.794984555596727, 'new york state'),
 (-10.794984555596727, 'news breitbart'),
 (-10.794984555596727, 'news cnn'),
 (-10.794984555596727, 'news daili'),
 (-10.794984555596727, 'news new'),
 (-10.794984555596727, 'news new york'),
 (-10.794984555596727, 'night new'),
 (-10.794984555596727, 'night new york'),
 (-10.794984555596727, 'nobel prize'),
 (-10.794984555596727, 'nomin'),
 (-10.794984555596727, 'nuclear option'),
 (-10.794984555596727, 'nune'),
 (-10.794984555596727, 'obama breitbart'),
 (-10.794984555596727, 'obama era'),
 (-10.794984555596727, 'obamacar breitbart'),
 (-10.794984555596727, 'obamacar lite'),
 (-10.794984555596727, 'obamacar repeal'),
 (-10.794984555596727, 'obamacar replac'),
 (-10.794984555596727, 'odd'),
 (-10.794984555596727, 'offic new'),
 (-10.794984555596727, 'offic new york'),
 (-10.794984555596727, 'offici say'),
 (-10.794984555596727, 'offici say new'),
 (-10.794984555596727, 'often'),
 (-10.794984555596727, 'oi'),
 (-10.794984555596727, 'oi fillon'),
 (-10.794984555596727, 'oliv'),
 (-10.794984555596727, 'olymp new'),
 (-10.794984555596727, 'olymp new york'),
 (-10.794984555596727, 'one new'),
 (-10.794984555596727, 'one new york'),
 (-10.794984555596727, 'op'),
 (-10.794984555596727, 'open door'),
 (-10.794984555596727, 'open new york'),
 (-10.794984555596727, 'oper new'),
 (-10.794984555596727, 'oppos trump'),
 (-10.794984555596727, 'order breitbart'),
 (-10.794984555596727, 'order new'),
 (-10.794984555596727, 'order new york'),
 (-10.794984555596727, 'orlando shoot'),
 (-10.794984555596727, 'orlean'),
 (-10.794984555596727, 'orovil'),
 (-10.794984555596727, 'outcri'),
 (-10.794984555596727, 'outlet'),
 (-10.794984555596727, 'overhaul'),
 (-10.794984555596727, 'pari agreement'),
 (-10.794984555596727, 'parti new'),
 (-10.794984555596727, 'parti new york'),
 (-10.794984555596727, 'passport'),
 (-10.794984555596727, 'past new'),
 (-10.794984555596727, 'past new york'),
 (-10.794984555596727, 'path new york'),
 (-10.794984555596727, 'patrol agent'),
 (-10.794984555596727, 'paul ryan obamacar'),
 (-10.794984555596727, 'pelosi'),
 (-10.794984555596727, 'penguin'),
 (-10.794984555596727, 'peopl breitbart'),
 (-10.794984555596727, 'perez'),
 (-10.794984555596727, 'persist'),
 (-10.794984555596727, 'person new york'),
 (-10.794984555596727, 'phelp'),
 (-10.794984555596727, 'pioneer'),
 (-10.794984555596727, 'plan new'),
 (-10.794984555596727, 'plan new york'),
 (-10.794984555596727, 'plane crash'),
 (-10.794984555596727, 'playoff'),
 (-10.794984555596727, 'poland'),
 (-10.794984555596727, 'polic new'),
 (-10.794984555596727, 'polic new york'),
 (-10.794984555596727, 'polic say'),
 (-10.794984555596727, 'polic say new'),
 (-10.794984555596727, 'polic shoot'),
 (-10.794984555596727, 'polici breitbart'),
 (-10.794984555596727, 'polici new'),
 (-10.794984555596727, 'polici new york'),
 (-10.794984555596727, 'polit new'),
 (-10.794984555596727, 'polit new york'),
 (-10.794984555596727, 'politico'),
 (-10.794984555596727, 'post new'),
 (-10.794984555596727, 'post new york'),
 (-10.794984555596727, 'pound'),
 (-10.794984555596727, 'power new york'),
 (-10.794984555596727, 'pregnanc'),
 (-10.794984555596727, 'pregnant'),
 (-10.794984555596727, 'presid breitbart'),
 (-10.794984555596727, 'presid new'),
 (-10.794984555596727, 'presid new york'),
 (-10.794984555596727, 'presid trump breitbart'),
 (-10.794984555596727, 'presidenti debat'),
 (-10.794984555596727, 'press breitbart'),
 (-10.794984555596727, 'preview'),
 (-10.794984555596727, 'price new'),
 (-10.794984555596727, 'price new york'),
 (-10.794984555596727, 'priebu'),
 (-10.794984555596727, 'prison new'),
 (-10.794984555596727, 'prison new york'),
 (-10.794984555596727, 'problem new'),
 (-10.794984555596727, 'problem new york'),
 (-10.794984555596727, 'profession'),
 (-10.794984555596727, 'prompt'),
 (-10.794984555596727, 'protest breitbart'),
 (-10.794984555596727, 'protest new'),
 (-10.794984555596727, 'proud'),
 (-10.794984555596727, 'pruitt'),
 (-10.794984555596727, 'publish'),
 (-10.794984555596727, 'puerto'),
 (-10.794984555596727, 'quebec'),
 (-10.794984555596727, 'race new'),
 (-10.794984555596727, 'race new york'),
 (-10.794984555596727, 'rampag'),
 (-10.794984555596727, 'rand'),
 (-10.794984555596727, 'rand paul'),
 (-10.794984555596727, 'rang'),
 (-10.794984555596727, 'rebuk'),
 (-10.794984555596727, 'recal'),
 (-10.794984555596727, 'redston'),
 (-10.794984555596727, 'regist'),
 (-10.794984555596727, 'rein'),
 (-10.794984555596727, 'reinc'),
 (-10.794984555596727, 'reinc priebu'),
 (-10.794984555596727, 'reinstat'),
 (-10.794984555596727, 'repeal breitbart'),
 (-10.794984555596727, 'repeal obamacar'),
 (-10.794984555596727, 'repeat'),
 (-10.794984555596727, 'replac bill'),
 (-10.794984555596727, 'report ask'),
 (-10.794984555596727, 'report breitbart'),
 (-10.794984555596727, 'report obama'),
 (-10.794984555596727, 'report say'),
 (-10.794984555596727, 'report say new'),
 (-10.794984555596727, 'report trump'),
 (-10.794984555596727, 'republican new'),
 (-10.794984555596727, 'republican new york'),
 (-10.794984555596727, 'reshap'),
 (-10.794984555596727, 'rethink'),
 (-10.794984555596727, 'rex'),
 (-10.794984555596727, 'rex tillerson'),
 (-10.794984555596727, 'rhetor'),
 (-10.794984555596727, 'rico'),
 (-10.794984555596727, 'right breitbart'),
 (-10.794984555596727, 'right new'),
 (-10.794984555596727, 'right new york'),
 (-10.794984555596727, 'rio'),
 (-10.794984555596727, 'rio olymp'),
 (-10.794984555596727, 'riot breitbart'),
 (-10.794984555596727, 'rodrigo'),
 (-10.794984555596727, 'rodrigo dutert'),
 (-10.794984555596727, 'roger ail'),
 (-10.794984555596727, 'roug'),
 (-10.794984555596727, 'rout'),
 (-10.794984555596727, 'rule breitbart'),
 (-10.794984555596727, 'rule new'),
 (-10.794984555596727, 'rule new york'),
 (-10.794984555596727, 'russia new york'),
 (-10.794984555596727, 'russia probe'),
 (-10.794984555596727, 'russian ambassador'),
 (-10.794984555596727, 'russian hack'),
 (-10.794984555596727, 'ryan locht'),
 (-10.794984555596727, 'ryan obamacar'),
 (-10.794984555596727, 'ryan obamacar lite'),
 (-10.794984555596727, 'ryancar'),
 (-10.794984555596727, 'san diego'),
 (-10.794984555596727, 'sarsour'),
 (-10.794984555596727, 'saturday'),
 (-10.794984555596727, 'saturday night'),
 (-10.794984555596727, 'saturday night live'),
 (-10.794984555596727, 'say new'),
 (-10.794984555596727, 'say new york'),
 (-10.794984555596727, 'scalis'),
 (-10.794984555596727, 'scandal breitbart'),
 (-10.794984555596727, 'scandal new'),
 (-10.794984555596727, 'scandal new york'),
 (-10.794984555596727, 'school new'),
 (-10.794984555596727, 'school new york'),
 (-10.794984555596727, 'schumer'),
 (-10.794984555596727, 'schwarzenegg'),
 (-10.794984555596727, 'scott pruitt'),
 (-10.794984555596727, 'scrambl'),
 (-10.794984555596727, 'sea new'),
 (-10.794984555596727, 'sea new york'),
 (-10.794984555596727, 'sean spicer'),
 (-10.794984555596727, 'sear'),
 (-10.794984555596727, 'season new'),
 (-10.794984555596727, 'season new york'),
 (-10.794984555596727, 'secretari new'),
 (-10.794984555596727, 'secretari new york'),
 (-10.794984555596727, 'secur advis'),
 (-10.794984555596727, 'secur council'),
 (-10.794984555596727, 'segment'),
 (-10.794984555596727, 'self drive car'),
 (-10.794984555596727, 'senat breitbart'),
 (-10.794984555596727, 'senat confirm'),
 (-10.794984555596727, 'settlement new'),
 (-10.794984555596727, 'settlement new york'),
 (-10.794984555596727, 'sex offend'),
 (-10.794984555596727, 'sexual abus'),
 (-10.794984555596727, 'sharp'),
 (-10.794984555596727, 'shinzo'),
 (-10.794984555596727, 'shinzo abe'),
 (-10.794984555596727, 'shoot new'),
 (-10.794984555596727, 'shoot new york'),
 (-10.794984555596727, 'show new'),
 (-10.794984555596727, 'show new york'),
 (-10.794984555596727, 'skill'),
 (-10.794984555596727, 'skip'),
 (-10.794984555596727, 'smile'),
 (-10.794984555596727, 'smuggler'),
 (-10.794984555596727, 'somalia'),
 (-10.794984555596727, 'son law'),
 (-10.794984555596727, 'south carolina'),
 (-10.794984555596727, 'south korean'),
 (-10.794984555596727, 'spacex'),
 (-10.794984555596727, 'speaker paul'),
 (-10.794984555596727, 'speaker paul ryan'),
 (-10.794984555596727, 'specul'),
 (-10.794984555596727, 'speech breitbart'),
 (-10.794984555596727, 'speech new york'),
 (-10.794984555596727, 'spicer'),
 (-10.794984555596727, 'sport'),
 (-10.794984555596727, 'sport new'),
 (-10.794984555596727, 'sport new york'),
 (-10.794984555596727, 'spotlight'),
 (-10.794984555596727, 'stanc'),
 (-10.794984555596727, 'stanford'),
 (-10.794984555596727, 'star new'),
 (-10.794984555596727, 'star new york'),
 (-10.794984555596727, 'start new'),
 (-10.794984555596727, 'start new york'),
 (-10.794984555596727, 'state breitbart'),
 (-10.794984555596727, 'state new'),
 (-10.794984555596727, 'state new york'),
 (-10.794984555596727, 'state support'),
 (-10.794984555596727, 'state warrior'),
 (-10.794984555596727, 'stem'),
 (-10.794984555596727, 'step new'),
 (-10.794984555596727, 'step new york'),
 (-10.794984555596727, 'stephen bannon'),
 (-10.794984555596727, 'stockholm'),
 (-10.794984555596727, 'stori new'),
 (-10.794984555596727, 'stori new york'),
 (-10.794984555596727, 'strand'),
 (-10.794984555596727, 'streep'),
 (-10.794984555596727, 'street new york'),
 (-10.794984555596727, 'streisand'),
 (-10.794984555596727, 'student new'),
 (-10.794984555596727, 'student new york'),
 (-10.794984555596727, 'stumbl'),
 (-10.794984555596727, 'suburb'),
 (-10.794984555596727, 'subway'),
 (-10.794984555596727, 'suddenli'),
 (-10.794984555596727, 'sunday'),
 (-10.794984555596727, 'super bowl'),
 (-10.794984555596727, 'support donald'),
 (-10.794984555596727, 'support donald trump'),
 (-10.794984555596727, 'suprem court new'),
 (-10.794984555596727, 'swift'),
 (-10.794984555596727, 'swimmer'),
 (-10.794984555596727, 'syria new york'),
 (-10.794984555596727, 'syria strike'),
 (-10.794984555596727, 'taiwan'),
 (-10.794984555596727, 'takata'),
 (-10.794984555596727, 'takeaway'),
 (-10.794984555596727, 'taliban'),
 (-10.794984555596727, 'talk new'),
 (-10.794984555596727, 'tap'),
 (-10.794984555596727, 'tax return'),
 (-10.794984555596727, 'team new'),
 (-10.794984555596727, 'team new york'),
 (-10.794984555596727, 'temporari'),
 (-10.794984555596727, 'term new'),
 (-10.794984555596727, 'term new york'),
 (-10.794984555596727, 'terror breitbart'),
 (-10.794984555596727, 'terror new'),
 (-10.794984555596727, 'test new york'),
 (-10.794984555596727, 'texa border'),
 (-10.794984555596727, 'theresa'),
 (-10.794984555596727, 'theresa may'),
 (-10.794984555596727, 'thing new'),
 (-10.794984555596727, 'thing new york'),
 (-10.794984555596727, 'thursday'),
 (-10.794984555596727, 'thursday even'),
 (-10.794984555596727, 'thursday even brief'),
 (-10.794984555596727, 'tie new'),
 (-10.794984555596727, 'tie new york'),
 (-10.794984555596727, 'tillerson'),
 (-10.794984555596727, 'time new'),
 (-10.794984555596727, 'time new york'),
 (-10.794984555596727, 'titl new'),
 (-10.794984555596727, 'titl new york'),
 (-10.794984555596727, 'todd'),
 (-10.794984555596727, 'toll'),
 (-10.794984555596727, 'tom bradi'),
 (-10.794984555596727, 'tone'),
 (-10.794984555596727, 'tough'),
 (-10.794984555596727, 'tourist'),
 (-10.794984555596727, 'town hall'),
 (-10.794984555596727, 'town new'),
 (-10.794984555596727, 'town new york'),
 (-10.794984555596727, 'trailer breitbart'),
 (-10.794984555596727, 'tran'),
 (-10.794984555596727, 'transit team'),
 (-10.794984555596727, 'travel ban'),
 (-10.794984555596727, 'travel ban new'),
 (-10.794984555596727, 'trial new'),
 (-10.794984555596727, 'trial new york'),
 (-10.794984555596727, 'trophi'),
 (-10.794984555596727, 'trove'),
 (-10.794984555596727, 'trudeau'),
 (-10.794984555596727, 'trump admin'),
 (-10.794984555596727, 'trump border'),
 (-10.794984555596727, 'trump breitbart'),
 (-10.794984555596727, 'trump budget'),
 (-10.794984555596727, 'trump celebr'),
 (-10.794984555596727, 'trump choic'),
 (-10.794984555596727, 'trump could'),
 (-10.794984555596727, 'trump execut'),
 (-10.794984555596727, 'trump execut order'),
 (-10.794984555596727, 'trump fire'),
 (-10.794984555596727, 'trump first day'),
 (-10.794984555596727, 'trump go'),
 (-10.794984555596727, 'trump immigr'),
 (-10.794984555596727, 'trump immigr order'),
 (-10.794984555596727, 'trump keep'),
 (-10.794984555596727, 'trump may'),
 (-10.794984555596727, 'trump new york'),
 (-10.794984555596727, 'trump nomine'),
 (-10.794984555596727, 'trump order'),
 (-10.794984555596727, 'trump pick'),
 (-10.794984555596727, 'trump polici'),
 (-10.794984555596727, 'trump talk'),
 (-10.794984555596727, 'trump travel'),
 (-10.794984555596727, 'trump travel ban'),
 (-10.794984555596727, 'trump tri'),
 (-10.794984555596727, 'trump visit'),
 (-10.794984555596727, 'trump vow'),
 (-10.794984555596727, 'trump wall'),
 (-10.794984555596727, 'trump women'),
 (-10.794984555596727, 'tuesday brief'),
 (-10.794984555596727, 'tuesday brief new'),
 (-10.794984555596727, 'tuesday even'),
 (-10.794984555596727, 'tuesday even brief'),
 (-10.794984555596727, 'turmoil'),
 (-10.794984555596727, 'twitter breitbart'),
 (-10.794984555596727, 'two year'),
 (-10.794984555596727, 'uc davi'),
 (-10.794984555596727, 'unlik'),
 (-10.794984555596727, 'unmask'),
 (-10.794984555596727, 'upend'),
 (-10.794984555596727, 'uphold'),
 (-10.794984555596727, 'us new york'),
 (-10.794984555596727, 'vacat'),
 (-10.794984555596727, 'vacat new'),
 (-10.794984555596727, 'vacat new york'),
 (-10.794984555596727, 'vanish'),
 (-10.794984555596727, 'veto'),
 (-10.794984555596727, 'violenc new'),
 (-10.794984555596727, 'violenc new york'),
 (-10.794984555596727, 'virgil'),
 (-10.794984555596727, 'vogu'),
 (-10.794984555596727, 'volkswagen'),
 (-10.794984555596727, 'vote new'),
 (-10.794984555596727, 'vote new york'),
 (-10.794984555596727, 'voter id'),
 (-10.794984555596727, 'wait new'),
 (-10.794984555596727, 'wall breitbart'),
 (-10.794984555596727, 'war new'),
 (-10.794984555596727, 'war new york'),
 (-10.794984555596727, 'wari'),
 (-10.794984555596727, 'warn new'),
 (-10.794984555596727, 'warn new york'),
 (-10.794984555596727, 'warner'),
 (-10.794984555596727, 'warrior'),
 (-10.794984555596727, 'washington new'),
 (-10.794984555596727, 'washington new york'),
 (-10.794984555596727, 'water new'),
 (-10.794984555596727, 'water new york'),
 (-10.794984555596727, 'way new'),
 (-10.794984555596727, 'way new york'),
 (-10.794984555596727, 'wednesday brief'),
 (-10.794984555596727, 'wednesday brief new'),
 (-10.794984555596727, 'wednesday even'),
 (-10.794984555596727, 'wednesday even brief'),
 (-10.794984555596727, 'week new'),
 (-10.794984555596727, 'week new york'),
 (-10.794984555596727, 'weekend brief'),
 (-10.794984555596727, 'weekend brief new'),
 (-10.794984555596727, 'weekend new'),
 (-10.794984555596727, 'weekend new york'),
 (-10.794984555596727, 'well fargo'),
 (-10.794984555596727, 'west bank'),
 (-10.794984555596727, 'westminst'),
 (-10.794984555596727, 'wh'),
 (-10.794984555596727, 'white hous breitbart'),
 (-10.794984555596727, 'white hous new'),
 (-10.794984555596727, 'white nationalist'),
 (-10.794984555596727, 'wider'),
 (-10.794984555596727, 'wield'),
 (-10.794984555596727, 'wildfir'),
 (-10.794984555596727, 'wimbledon'),
 (-10.794984555596727, 'win breitbart'),
 (-10.794984555596727, 'wiretap claim'),
 (-10.794984555596727, 'women march'),
 (-10.794984555596727, 'women new'),
 (-10.794984555596727, 'women new york'),
 (-10.794984555596727, 'work new'),
 (-10.794984555596727, 'work new york'),
 (-10.794984555596727, 'world new'),
 (-10.794984555596727, 'world new york'),
 (-10.794984555596727, 'worri new'),
 (-10.794984555596727, 'worri new york'),
 (-10.794984555596727, 'wrestl'),
 (-10.794984555596727, 'yahoo'),
 (-10.794984555596727, 'year breitbart'),
 (-10.794984555596727, 'year eve'),
 (-10.794984555596727, 'year new york'),
 (-10.794984555596727, 'york new'),
 (-10.794984555596727, 'york new york'),
 (-10.794984555596727, 'york state'),
 (-10.794984555596727, 'zone new'),
 (-10.794984555596727, 'zone new york'),
 (-10.794984555596727, 'zoo'),
 (-10.047770153766505, 'academi'),
 (-10.047770153766505, 'accid'),
 (-10.047770153766505, 'aclu'),
 (-10.047770153766505, 'acr'),
 (-10.047770153766505, 'adopt'),
 (-10.047770153766505, 'ahead trump'),
 (-10.047770153766505, 'airbnb'),
 (-10.047770153766505, 'airlin'),
 (-10.047770153766505, 'album'),
 (-10.047770153766505, 'alex jone'),
 (-10.047770153766505, 'allegedli'),
 (-10.047770153766505, 'allianc'),
 (-10.047770153766505, 'america new'),
 (-10.047770153766505, 'anchor'),
 (-10.047770153766505, 'anger'),
 (-10.047770153766505, 'anti israel'),
 (-10.047770153766505, 'anti semit'),
 (-10.047770153766505, 'anymor'),
 (-10.047770153766505, 'applic'),
 (-10.047770153766505, 'approach'),
 (-10.047770153766505, 'appropri'),
 (-10.047770153766505, 'around world'),
 (-10.047770153766505, 'artifici'),
 (-10.047770153766505, 'asylum seeker'),
 (-10.047770153766505, 'atlant'),
 (-10.047770153766505, 'attack polic'),
 (-10.047770153766505, 'attack trump'),
 (-10.047770153766505, 'auto'),
 (-10.047770153766505, 'aviv'),
 (-10.047770153766505, 'back trump'),
 (-10.047770153766505, 'baghdad'),
 (-10.047770153766505, 'band'),
 (-10.047770153766505, 'barrier'),
 (-10.047770153766505, 'barron'),
 (-10.047770153766505, 'beach'),
 (-10.047770153766505, 'beer'),
 (-10.047770153766505, 'behead'),
 (-10.047770153766505, 'beij'),
 (-10.047770153766505, 'ben'),
 (-10.047770153766505, 'berlin'),
 (-10.047770153766505, 'bet'),
 (-10.047770153766505, 'beyonc'),
 (-10.047770153766505, 'bill cosbi'),
 (-10.047770153766505, 'bitter'),
 (-10.047770153766505, 'blasio'),
 (-10.047770153766505, 'block trump'),
 (-10.047770153766505, 'boat'),
 (-10.047770153766505, 'boe'),
 (-10.047770153766505, 'boko'),
 (-10.047770153766505, 'boko haram'),
 (-10.047770153766505, 'bolton'),
 (-10.047770153766505, 'bomber'),
 (-10.047770153766505, 'bori'),
 (-10.047770153766505, 'boss'),
 (-10.047770153766505, 'bow'),
 (-10.047770153766505, 'branch'),
 (-10.047770153766505, 'breitbart news'),
 (-10.047770153766505, 'bribe'),
 (-10.047770153766505, 'brought'),
 (-10.047770153766505, 'built'),
 (-10.047770153766505, 'bull'),
 ...]
HashingVectorizer
In [42]:
hs_vectorizer=HashingVectorizer(n_features=5000,non_negative=True)
X=hs_vectorizer.fit_transform(corpus).toarray()
c:\users\krish.naik\appdata\local\continuum\anaconda3\envs\nlp\lib\site-packages\sklearn\feature_extraction\hashing.py:94: DeprecationWarning: the option non_negative=True has been deprecated in 0.19 and will be removed in version 0.21.
  " in version 0.21.", DeprecationWarning)
c:\users\krish.naik\appdata\local\continuum\anaconda3\envs\nlp\lib\site-packages\sklearn\feature_extraction\hashing.py:94: DeprecationWarning: the option non_negative=True has been deprecated in 0.19 and will be removed in version 0.21.
  " in version 0.21.", DeprecationWarning)
In [43]:
X.shape
Out[43]:
(18285, 5000)
In [47]:
X
Out[47]:
array([[0.        , 0.31622777, 0.        , ..., 0.        , 0.        ,
        0.        ],
       [0.        , 0.        , 0.        , ..., 0.        , 0.        ,
        0.        ],
       [0.        , 0.        , 0.        , ..., 0.        , 0.        ,
        0.        ],
       ...,
       [0.        , 0.        , 0.        , ..., 0.        , 0.        ,
        0.        ],
       [0.        , 0.        , 0.        , ..., 0.        , 0.        ,
        0.        ],
       [0.        , 0.        , 0.        , ..., 0.        , 0.        ,
        0.        ]])
In [44]:
## Divide the dataset into Train and Test
from sklearn.model_selection import train_test_split
X_train, X_test, y_train, y_test = train_test_split(X, y, test_size=0.33, random_state=0)
In [45]:
from sklearn.naive_bayes import MultinomialNB
classifier=MultinomialNB()
classifier.fit(X_train, y_train)
pred = classifier.predict(X_test)
score = metrics.accuracy_score(y_test, pred)
print("accuracy:   %0.3f" % score)
cm = metrics.confusion_matrix(y_test, pred)
plot_confusion_matrix(cm, classes=['FAKE', 'REAL'])
accuracy:   0.871
Confusion matrix, without normalization

In [ ]
